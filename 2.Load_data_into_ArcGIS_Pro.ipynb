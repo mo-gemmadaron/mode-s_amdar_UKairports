{
 "cells": [
  {
   "cell_type": "markdown",
   "metadata": {},
   "source": [
    "# 1. Load modules"
   ]
  },
  {
   "cell_type": "code",
   "execution_count": 1,
   "metadata": {},
   "outputs": [],
   "source": [
    "import arcpy\n",
    "import datetime \n",
    "from datetime import timedelta"
   ]
  },
  {
   "cell_type": "markdown",
   "metadata": {},
   "source": [
    "# 2. Define function for symbology"
   ]
  },
  {
   "cell_type": "code",
   "execution_count": 2,
   "metadata": {},
   "outputs": [],
   "source": [
    "def update_symbology(date, airport_name, select_runway_area, data_type):\n",
    "    \n",
    "    if select_runway_area == True:\n",
    "        layer_name = \"{0}_{1}_XYTableToPoint2_{2}_selection\".format(data_type, date, airport_name)\n",
    "    if select_runway_area == False:\n",
    "        layer_name = \"{0}_{1}_XYTableToPoint2_{2}\".format(data_type, date, airport_name)\n",
    "    \n",
    "    p = arcpy.mp.ArcGISProject(\"CURRENT\")\n",
    "    m = p.listMaps(\"Map\")[0]\n",
    "    lyr = m.listLayers(layer_name)[0]\n",
    "    sym = lyr.symbology\n",
    "    sym.updateRenderer('GraduatedColorsRenderer')\n",
    "    \n",
    "    if data_type == 'MODES':\n",
    "        sym.renderer.classificationField = \"GNSS_ALTD\"\n",
    "        colorRamp = p.listColorRamps(\"Blues (Continuous)\")[0]\n",
    "        \n",
    "    if data_type == 'AMDARS':\n",
    "        sym.renderer.classificationField = \"ALTD\"\n",
    "        colorRamp = p.listColorRamps(\"Reds (Continuous)\")[0]\n",
    "    \n",
    "    sym.renderer.colorRamp = colorRamp\n",
    "\n",
    "    # using natural breaks\n",
    "    #sym.classificationMethod = 'NaturalBreaks'\n",
    "    #sym.renderer.breakCount = 10\n",
    "\n",
    "    # using manual interval\n",
    "    sym.classificationMethod = 'ManualInterval'\n",
    "    #classBreakValues = [100,200,500,1000,2000,5000,10000,15000]\n",
    "    #classBreakLabels = ['<100','<200','<500','<1000','<2000','<5000','<10000','<15000']\n",
    "    classBreakValues = [100,200,500,1000,1500]\n",
    "    classBreakLabels = ['<100','<200','<500','<1000','<1500']\n",
    "    \n",
    "    sym.renderer.breakCount = len(classBreakValues)\n",
    "\n",
    "    count = 0\n",
    "    for brk in sym.renderer.classBreaks:\n",
    "        brk.upperBound = classBreakValues[count]\n",
    "        brk.label = classBreakLabels[count]\n",
    "        count += 1\n",
    "\n",
    "    lyr.symbology = sym\n",
    "    return(sym)"
   ]
  },
  {
   "cell_type": "markdown",
   "metadata": {},
   "source": [
    "# 3. Set inputs"
   ]
  },
  {
   "cell_type": "code",
   "execution_count": 10,
   "metadata": {},
   "outputs": [],
   "source": [
    "#date_list = [20220101]\n",
    "\n",
    "start_date = datetime.date(2022,9,19)\n",
    "end_date = datetime.date(2022,9,19)\n",
    "\n",
    "date_list = [start_date + timedelta(days=i) for i in range((end_date - start_date).days + 1)]\n",
    "date_list = [date_obj.strftime('%Y%m%d') for date_obj in date_list]\n",
    "\n",
    "airport_name_list = ['LondonCity']\n",
    "\n",
    "'''\n",
    "airport_name_list = ['Heathrow', \\\n",
    "                     'Gatwick', \\\n",
    "                     'Manchester', \\\n",
    "                     'Stansted', \\\n",
    "                     'Edinburgh', \\\n",
    "                     'Birmingham', \\\n",
    "                     'Bristol', \\\n",
    "                     'Glasgow', \\\n",
    "                     'Aberdeen', \\\n",
    "                     'EastMidlands', \\\n",
    "                     'LondonCity', \\\n",
    "                     'BelfastInt', \\\n",
    "                     'Newcastle', \\\n",
    "                     'LeedsBradford', \\\n",
    "                     'Liverpool',\\\n",
    "                     'Cardiff']\n",
    "'''\n",
    "\n",
    "select_runway_area = True # Set to True or False - defines whether runway polygons are used to subset the data"
   ]
  },
  {
   "cell_type": "markdown",
   "metadata": {},
   "source": [
    "# 4. Main code for loading"
   ]
  },
  {
   "cell_type": "code",
   "execution_count": 11,
   "metadata": {},
   "outputs": [
    {
     "name": "stdout",
     "output_type": "stream",
     "text": [
      "Loading data for: LondonCity 20220919\n"
     ]
    }
   ],
   "source": [
    "for airport_name in airport_name_list:\n",
    "    for date in date_list:\n",
    "        \n",
    "        print('Loading data for: {0} {1}'.format(airport_name, date))\n",
    "        \n",
    "        arcpy.management.XYTableToPoint(r\"D:\\MetDB\\AMDARS\\{0}\\AMDARS_{1}.txt\".format(airport_name,date), \n",
    "                                    r\"C:\\Users\\gemma.daron\\OneDrive - Met Office\\ArcGISProProjects\\ModeS\\ModeS.gdb\\AMDARS_{0}_XYTableToPoint2_{1}\".format(date, airport_name), \n",
    "                                    \"LON\", \n",
    "                                    \"LAT\", \n",
    "                                    None, \n",
    "                                    'GEOGCS[\"GCS_WGS_1984\",DATUM[\"D_WGS_1984\",SPHEROID[\"WGS_1984\",6378137.0,298.257223563]],PRIMEM[\"Greenwich\",0.0],UNIT[\"Degree\",0.0174532925199433]];-400 -400 1000000000;-100000 10000;-100000 10000;8.98315284119521E-09;0.001;0.001;IsHighPrecision')\n",
    "    \n",
    "        arcpy.management.XYTableToPoint(r\"D:\\MetDB\\Mode-S\\{0}\\MODE-S_{1}.txt\".format(airport_name,date), \n",
    "                                    r\"C:\\Users\\gemma.daron\\OneDrive - Met Office\\ArcGISProProjects\\ModeS\\ModeS.gdb\\MODES_{0}_XYTableToPoint2_{1}\".format(date, airport_name), \n",
    "                                    \"LON\", \n",
    "                                    \"LAT\", \n",
    "                                    None, \n",
    "                                    'GEOGCS[\"GCS_WGS_1984\",DATUM[\"D_WGS_1984\",SPHEROID[\"WGS_1984\",6378137.0,298.257223563]],PRIMEM[\"Greenwich\",0.0],UNIT[\"Degree\",0.0174532925199433]];-400 -400 1000000000;-100000 10000;-100000 10000;8.98315284119521E-09;0.001;0.001;IsHighPrecision')\n",
    "\n",
    "        # Select features within runway polygons and delete  (ISSUE WITH AMDAR DATA NOT ALIGNING WITH RUNWAY)\n",
    "        if select_runway_area == True:\n",
    "\n",
    "            arcpy.SelectLayerByLocation_management (\"AMDARS_{0}_XYTableToPoint2_{1}\".format(date, airport_name),\n",
    "                                              \"WITHIN\",\n",
    "                                              \"{0}_buffer\".format(airport_name))\n",
    "            arcpy.CopyFeatures_management(\"AMDARS_{0}_XYTableToPoint2_{1}\".format(date, airport_name), \"AMDARS_{0}_XYTableToPoint2_{1}_selection\".format(date, airport_name))\n",
    "            arcpy.Delete_management(\"AMDARS_{0}_XYTableToPoint2_{1}\".format(date, airport_name))\n",
    "           \n",
    "    \n",
    "            arcpy.SelectLayerByLocation_management (\"MODES_{0}_XYTableToPoint2_{1}\".format(date, airport_name),\n",
    "                                              \"WITHIN\",\n",
    "                                              \"{0}_buffer\".format(airport_name))\n",
    "            arcpy.CopyFeatures_management(\"MODES_{0}_XYTableToPoint2_{1}\".format(date, airport_name), \"MODES_{0}_XYTableToPoint2_{1}_selection\".format(date, airport_name))\n",
    "            arcpy.Delete_management(\"MODES_{0}_XYTableToPoint2_{1}\".format(date, airport_name))\n",
    "    \n",
    "        \n",
    "        # Update symbology of loaded layers\n",
    "        update_symbology(date, airport_name, select_runway_area, 'MODES')\n",
    "        update_symbology(date, airport_name, select_runway_area, 'AMDARS')"
   ]
  },
  {
   "cell_type": "code",
   "execution_count": null,
   "metadata": {},
   "outputs": [],
   "source": []
  }
 ],
 "metadata": {
  "kernelspec": {
   "display_name": "ArcGISPro",
   "language": "Python",
   "name": "python3"
  },
  "language_info": {
   "file_extension": ".py",
   "name": "python",
   "version": "3"
  }
 },
 "nbformat": 4,
 "nbformat_minor": 2
}
