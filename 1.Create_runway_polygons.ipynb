{
 "cells": [
  {
   "cell_type": "markdown",
   "metadata": {},
   "source": [
    "# 1. Load modules"
   ]
  },
  {
   "cell_type": "code",
   "execution_count": 131,
   "metadata": {},
   "outputs": [],
   "source": [
    "import arcpy\n",
    "from arcpy.sa import *"
   ]
  },
  {
   "cell_type": "markdown",
   "metadata": {},
   "source": [
    "# 2. Define airport locations and runway angles"
   ]
  },
  {
   "cell_type": "code",
   "execution_count": 120,
   "metadata": {},
   "outputs": [],
   "source": [
    "airport_name_list = ['Heathrow', \\\n",
    "                     'Gatwick', \\\n",
    "                     'Manchester', \\\n",
    "                     'Stansted', \\\n",
    "                     'Edinburgh', \\\n",
    "                     'Birmingham', \\\n",
    "                     'Bristol', \\\n",
    "                     'Glasgow', \\\n",
    "                     'Aberdeen', \\\n",
    "                     'EastMidlands', \\\n",
    "                     'LondonCity', \\\n",
    "                     'BelfastInt', \\\n",
    "                     'Newcastle', \\\n",
    "                     'LeedsBradford', \\\n",
    "                     'Liverpool',\\\n",
    "                     'Cardiff']\n",
    "\n",
    "#airport_name_list = ['Cardiff']\n",
    "\n",
    "dict = {'Heathrow':{'lat': 51.470022, 'lon':-0.454296, 'angle': 0},\\\n",
    "        'Gatwick':{'lat': 51.153662, 'lon':-0.182063, 'angle': 8},\\\n",
    "        'Manchester':{'lat': 53.358803, 'lon':-2.27273, 'angle': 25},\\\n",
    "        'Stansted':{'lat': 51.886018, 'lon':0.238866, 'angle': 34},\\\n",
    "        'Edinburgh':{'lat': 55.950785, 'lon':-3.361453, 'angle': 19},\\\n",
    "        'Birmingham':{'lat': 52.452382, 'lon':-1.743507, 'angle': 137},\\\n",
    "        'Bristol':{'lat': 51.38363, 'lon':-2.713546, 'angle': 3},\\\n",
    "        'Glasgow':{'lat': 55.869074, 'lon':-4.435053, 'angle': 28},\\\n",
    "        'Aberdeen':{'lat': 57.203698, 'lon':-2.200162, 'angle': 127},\\\n",
    "        'EastMidlands':{'lat': 52.829374, 'lon':-1.332134, 'angle': 0},\\\n",
    "        'LondonCity':{'lat': 51.504844, 'lon':0.049518, 'angle': -2},\\\n",
    "        'BelfastInt':{'lat': 54.654173, 'lon':-6.224699, 'angle': 15},\\\n",
    "        'Newcastle':{'lat': 55.038524, 'lon':-1.693079, 'angle': 14},\\\n",
    "        'LeedsBradford':{'lat': 53.867943, 'lon':-1.661531, 'angle': -34},\\\n",
    "        'Liverpool':{'lat': 53.336707, 'lon':-2.85744, 'angle': 3},\\\n",
    "        'Cardiff':{'lat': 51.396667, 'lon':-3.343333, 'angle': -17}}"
   ]
  },
  {
   "cell_type": "markdown",
   "metadata": {},
   "source": [
    "# 3. Main code for creating polygons"
   ]
  },
  {
   "cell_type": "code",
   "execution_count": 125,
   "metadata": {},
   "outputs": [
    {
     "name": "stdout",
     "output_type": "stream",
     "text": [
      "point2 = 51.330909,-3.1271\n",
      "point1 = 51.462453,-3.5595\n"
     ]
    }
   ],
   "source": [
    "for airport_name in airport_name_list:\n",
    "    airport = dict[airport_name]\n",
    "    lat = airport.get('lat')\n",
    "    lon = airport.get('lon')\n",
    "    angle = airport.get('angle')\n",
    "\n",
    "    distance = 25000\n",
    "\n",
    "    gcs = arcpy.SpatialReference(4326)\n",
    "    centre = arcpy.PointGeometry(arcpy.Point(lat,lon),gcs)\n",
    "\n",
    "    point2 = centre.pointFromAngleAndDistance(angle, distance, 'GEODESIC')\n",
    "    print('point2 = {:4f},{:.4f}'.format(\n",
    "            point2.firstPoint.X,\n",
    "            point2.firstPoint.Y))\n",
    "\n",
    "    point1 = centre.pointFromAngleAndDistance(angle+180, distance, 'GEODESIC')\n",
    "    print('point1 = {:4f},{:.4f}'.format(\n",
    "            point1.firstPoint.X,\n",
    "            point1.firstPoint.Y))\n",
    "\n",
    "    coordinates = [(point1.firstPoint.Y, point1.firstPoint.X), (point2.firstPoint.Y, point2.firstPoint.X)]\n",
    "    #coordinates = [(centre.firstPoint.Y, centre.firstPoint.X), (point2.firstPoint.Y, point2.firstPoint.X)]\n",
    "\n",
    "\n",
    "    arcpy.CheckOutExtension('spatial')\n",
    "    result = arcpy.management.CreateFeatureclass('C:/Users/gemma.daron/OneDrive - Met Office/ArcGISProProjects/ModeS', \n",
    "                                            '{0}_line.shp'.format(airport_name),\n",
    "                                            'POLYLINE',\n",
    "                                            '',\n",
    "                                            '',\n",
    "                                            '',\n",
    "                                            '4326') # 4326 WGS1984 # 4277 OSGB36\n",
    "    outPolyExtent = result[0]\n",
    "    # Use Insert cursor to add new geometry to feature class Write feature to new feature class\n",
    "    with arcpy.da.InsertCursor(outPolyExtent, ['SHAPE@']) as cursor:\n",
    "        cursor.insertRow([coordinates])\n",
    "    \n",
    "    arcpy.CheckInExtension('Spatial')\n",
    "\n",
    "    arcpy.Buffer_analysis('{0}_line'.format(airport_name), '{0}_buffer'.format(airport_name), '3000 METERS')"
   ]
  },
  {
   "cell_type": "code",
   "execution_count": null,
   "metadata": {},
   "outputs": [],
   "source": []
  }
 ],
 "metadata": {
  "kernelspec": {
   "display_name": "ArcGISPro",
   "language": "Python",
   "name": "python3"
  },
  "language_info": {
   "file_extension": ".py",
   "name": "python",
   "version": "3"
  }
 },
 "nbformat": 4,
 "nbformat_minor": 2
}
